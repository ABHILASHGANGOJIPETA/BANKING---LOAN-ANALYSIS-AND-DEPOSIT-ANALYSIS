{
 "cells": [
  {
   "cell_type": "code",
   "execution_count": null,
   "id": "36fdb43e",
   "metadata": {},
   "outputs": [],
   "source": [
    "import mysql.connector\n",
    "import pandas as pd\n",
    "# Connect to server\n",
    "cnx = mysql.connector.connect(\n",
    "    host=\"127.0.0.1\",\n",
    "    port=3306,\n",
    "    user=\"root\",\n",
    "    password=\"Abhi@4177\")"
   ]
  },
  {
   "cell_type": "code",
   "execution_count": null,
   "id": "aca15640",
   "metadata": {},
   "outputs": [],
   "source": [
    "query = \"SELECT * FROM banking_case.customer\""
   ]
  },
  {
   "cell_type": "code",
   "execution_count": null,
   "id": "0c9b84f9",
   "metadata": {},
   "outputs": [],
   "source": [
    "df = pd.read_sql(query, cnx)"
   ]
  },
  {
   "cell_type": "code",
   "execution_count": null,
   "id": "873a0485",
   "metadata": {},
   "outputs": [],
   "source": [
    "cnx.close()"
   ]
  },
  {
   "cell_type": "code",
   "execution_count": null,
   "id": "2c6cbdbc",
   "metadata": {},
   "outputs": [],
   "source": []
  }
 ],
 "metadata": {
  "kernelspec": {
   "display_name": "Python [conda env:base]",
   "language": "python",
   "name": "base"
  },
  "language_info": {
   "codemirror_mode": {
    "name": "ipython",
    "version": 3
   },
   "file_extension": ".py",
   "mimetype": "text/x-python",
   "name": "python",
   "nbconvert_exporter": "python",
   "pygments_lexer": "ipython3",
   "version": "3.11.5"
  }
 },
 "nbformat": 4,
 "nbformat_minor": 5
}
